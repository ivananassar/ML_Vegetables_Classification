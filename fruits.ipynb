{
  "cells": [
    {
      "cell_type": "code",
      "execution_count": 1,
      "metadata": {
        "id": "WpNlBECf9dAk"
      },
      "outputs": [],
      "source": [
        "import tensorflow as tf\n",
        "import os\n",
        "import cv2\n",
        "import numpy as np\n",
        "from tensorflow import keras\n",
        "from tensorflow.keras.preprocessing.image import ImageDataGenerator\n",
        "from tensorflow.keras.preprocessing import image\n",
        "from tensorflow.keras.models import Sequential, Model\n",
        "from tensorflow.keras.layers import BatchNormalization, Dense, Dropout, Flatten, Conv2D, MaxPooling2D\n",
        "from tensorflow.keras.optimizers import Adam\n",
        "from tensorflow.keras.models import load_model\n",
        "from tensorflow.keras.regularizers import l2\n",
        "import numpy as np\n",
        "import random\n",
        "import matplotlib.pyplot as plt\n",
        "from PIL import Image\n",
        "import warnings\n",
        "import cv2\n",
        "import imghdr\n",
        "from random import randint\n",
        "from tensorflow.keras import layers"
      ]
    },
    {
      "cell_type": "code",
      "execution_count": 2,
      "metadata": {
        "colab": {
          "base_uri": "https://localhost:8080/"
        },
        "id": "M2p7Oxpu9pnV",
        "outputId": "8ca0a2ee-54c4-4ea7-8d39-36f2b468a9c6"
      },
      "outputs": [
        {
          "name": "stdout",
          "output_type": "stream",
          "text": [
            "['apple', 'banana', 'beetroot', 'cabbage', 'capsicum', 'carrot', 'cucumber', 'grapes', 'kiwi', 'lemon', 'lettuce', 'mango', 'onion', 'orange', 'pear', 'pineapple', 'pomegranate', 'potato', 'raddish', 'tomato', 'watermelon']\n"
          ]
        }
      ],
      "source": [
        "#initialize the data\n",
        "\n",
        "data_dir=\"C:/Univ/internship/fruits-vegetables/dataset\"\n",
        "train_dir = \"C:/Univ/internship/fruits-vegetables/dataset/train\"\n",
        "test_dir = \"C:/Univ/internship/fruits-vegetables/dataset/test\"\n",
        "num_classes = 21\n",
        "\n",
        "print(os.listdir(os.path.join(data_dir, 'train')))"
      ]
    },
    {
      "cell_type": "code",
      "execution_count": 3,
      "metadata": {},
      "outputs": [
        {
          "name": "stdout",
          "output_type": "stream",
          "text": [
            "Training images shape: (3212, 32, 32, 3)\n",
            "Training labels shape: (3212,)\n",
            "Number of classes: 21\n",
            "testing images shape: (210, 32, 32, 3)\n",
            "testing labels shape: (210,)\n",
            "Number of classes: 21\n"
          ]
        }
      ],
      "source": [
        "def convert_images_to_arrays(data_dir, target_size=(32, 32)):\n",
        "    images = []\n",
        "    labels = []\n",
        "\n",
        "    for label, class_name in enumerate(os.listdir(data_dir)):\n",
        "        class_path = os.path.join(data_dir, class_name)\n",
        "\n",
        "        for image_file in os.listdir(class_path):\n",
        "            image_path = os.path.join(class_path, image_file)\n",
        "\n",
        "            # Read and resize the image using OpenCV\n",
        "            image = cv2.imread(image_path)\n",
        "            image = cv2.cvtColor(image, cv2.COLOR_BGR2RGB)  # Convert to RGB if needed\n",
        "            image = cv2.resize(image, target_size)\n",
        "\n",
        "            images.append(image)\n",
        "            labels.append(label)\n",
        "\n",
        "    return np.array(images), np.array(labels)\n",
        "\n",
        "\n",
        "# Convert images to NumPy arrays for training and testing sets\n",
        "train_images, train_labels = convert_images_to_arrays(os.path.join(data_dir, 'train'))\n",
        "test_images, test_labels = convert_images_to_arrays(os.path.join(data_dir, 'test'))\n",
        "\n",
        "# Print information about the dataset\n",
        "print(\"Training images shape:\", train_images.shape)\n",
        "print(\"Training labels shape:\", train_labels.shape)\n",
        "print(\"Number of classes:\", len(np.unique(train_labels)))\n",
        "\n",
        "print(\"testing images shape:\", test_images.shape)\n",
        "print(\"testing labels shape:\", test_labels.shape)\n",
        "print(\"Number of classes:\", len(np.unique(test_labels)))\n"
      ]
    },
    {
      "cell_type": "code",
      "execution_count": 4,
      "metadata": {},
      "outputs": [
        {
          "data": {
            "text/plain": [
              "array([[[255, 255, 255],\n",
              "        [255, 255, 255],\n",
              "        [255, 255, 255],\n",
              "        ...,\n",
              "        [255, 255, 255],\n",
              "        [255, 255, 255],\n",
              "        [255, 255, 255]],\n",
              "\n",
              "       [[255, 255, 255],\n",
              "        [255, 255, 255],\n",
              "        [255, 255, 255],\n",
              "        ...,\n",
              "        [255, 255, 255],\n",
              "        [255, 255, 255],\n",
              "        [255, 255, 255]],\n",
              "\n",
              "       [[255, 255, 255],\n",
              "        [255, 255, 255],\n",
              "        [255, 255, 255],\n",
              "        ...,\n",
              "        [255, 255, 255],\n",
              "        [255, 255, 255],\n",
              "        [255, 255, 255]],\n",
              "\n",
              "       ...,\n",
              "\n",
              "       [[255, 255, 255],\n",
              "        [255, 255, 255],\n",
              "        [255, 255, 255],\n",
              "        ...,\n",
              "        [255, 255, 255],\n",
              "        [255, 255, 255],\n",
              "        [255, 255, 255]],\n",
              "\n",
              "       [[255, 255, 255],\n",
              "        [255, 255, 255],\n",
              "        [255, 255, 255],\n",
              "        ...,\n",
              "        [255, 255, 255],\n",
              "        [255, 255, 255],\n",
              "        [255, 255, 255]],\n",
              "\n",
              "       [[255, 255, 255],\n",
              "        [255, 255, 255],\n",
              "        [255, 255, 255],\n",
              "        ...,\n",
              "        [255, 255, 255],\n",
              "        [255, 255, 255],\n",
              "        [255, 255, 255]]], dtype=uint8)"
            ]
          },
          "execution_count": 4,
          "metadata": {},
          "output_type": "execute_result"
        }
      ],
      "source": [
        "train_images[0]"
      ]
    },
    {
      "cell_type": "code",
      "execution_count": 5,
      "metadata": {},
      "outputs": [
        {
          "data": {
            "text/plain": [
              "array([[[255, 255, 255],\n",
              "        [249, 249, 249],\n",
              "        [255, 255, 255],\n",
              "        ...,\n",
              "        [254, 254, 254],\n",
              "        [255, 255, 255],\n",
              "        [255, 255, 255]],\n",
              "\n",
              "       [[254, 254, 254],\n",
              "        [255, 255, 255],\n",
              "        [255, 255, 255],\n",
              "        ...,\n",
              "        [255, 255, 255],\n",
              "        [255, 255, 255],\n",
              "        [255, 255, 255]],\n",
              "\n",
              "       [[255, 255, 255],\n",
              "        [255, 255, 255],\n",
              "        [255, 255, 255],\n",
              "        ...,\n",
              "        [255, 255, 255],\n",
              "        [255, 255, 255],\n",
              "        [255, 255, 255]],\n",
              "\n",
              "       ...,\n",
              "\n",
              "       [[254, 254, 254],\n",
              "        [255, 255, 255],\n",
              "        [255, 255, 255],\n",
              "        ...,\n",
              "        [252, 252, 252],\n",
              "        [255, 255, 255],\n",
              "        [255, 255, 255]],\n",
              "\n",
              "       [[255, 255, 255],\n",
              "        [255, 255, 255],\n",
              "        [255, 255, 255],\n",
              "        ...,\n",
              "        [255, 255, 255],\n",
              "        [255, 255, 255],\n",
              "        [255, 255, 255]],\n",
              "\n",
              "       [[254, 254, 254],\n",
              "        [255, 255, 255],\n",
              "        [255, 255, 255],\n",
              "        ...,\n",
              "        [255, 255, 255],\n",
              "        [255, 255, 255],\n",
              "        [255, 255, 255]]], dtype=uint8)"
            ]
          },
          "execution_count": 5,
          "metadata": {},
          "output_type": "execute_result"
        }
      ],
      "source": [
        "test_images[0]"
      ]
    },
    {
      "cell_type": "code",
      "execution_count": 6,
      "metadata": {},
      "outputs": [
        {
          "data": {
            "image/png": "[encoded data removed]",
            "text/plain": [
              "<Figure size 432x288 with 1 Axes>"
            ]
          },
          "metadata": {
            "needs_background": "light"
          },
          "output_type": "display_data"
        }
      ],
      "source": [
        "# Assuming train_images[0] is a single image array\n",
        "image_to_show = train_images[0]\n",
        "\n",
        "# Display the image\n",
        "plt.imshow(image_to_show)\n",
        "plt.title(f\"Class: {train_labels[0]}\")  # Assuming train_labels[0] is the corresponding label\n",
        "plt.axis('off')  # Turn off axis labels\n",
        "plt.show()"
      ]
    },
    {
      "cell_type": "code",
      "execution_count": 7,
      "metadata": {},
      "outputs": [
        {
          "data": {
            "image/png": "[encoded data removed]",
            "text/plain": [
              "<Figure size 432x288 with 1 Axes>"
            ]
          },
          "metadata": {
            "needs_background": "light"
          },
          "output_type": "display_data"
        }
      ],
      "source": [
        "# Assuming train_images[0] is a single image array\n",
        "image_to_show = test_images[0]\n",
        "\n",
        "# Display the image\n",
        "plt.imshow(image_to_show)\n",
        "plt.title(f\"Class: {test_labels[0]}\")  # Assuming train_labels[0] is the corresponding label\n",
        "plt.axis('off')  # Turn off axis labels\n",
        "plt.show()"
      ]
    },
    {
      "cell_type": "code",
      "execution_count": 8,
      "metadata": {},
      "outputs": [
        {
          "data": {
            "text/plain": [
              "array([[[  0,   0,   0],\n",
              "        [  0,   0,   0],\n",
              "        [  0,   0,   0],\n",
              "        ...,\n",
              "        [  0,   0,   0],\n",
              "        [  0,   0,   0],\n",
              "        [  0,   0,   0]],\n",
              "\n",
              "       [[  0,   0,   0],\n",
              "        [  0,   0,   0],\n",
              "        [  0,   0,   0],\n",
              "        ...,\n",
              "        [  0,   0,   0],\n",
              "        [  0,   0,   0],\n",
              "        [  0,   0,   0]],\n",
              "\n",
              "       [[  0,   0,   0],\n",
              "        [  0,   0,   0],\n",
              "        [  0,   0,   0],\n",
              "        ...,\n",
              "        [106, 183,  71],\n",
              "        [  0,   0,   0],\n",
              "        [  0,   0,   0]],\n",
              "\n",
              "       ...,\n",
              "\n",
              "       [[  0,   0,   0],\n",
              "        [  0,   0,   0],\n",
              "        [  0,   0,   0],\n",
              "        ...,\n",
              "        [  0,   0,   0],\n",
              "        [  0,   0,   0],\n",
              "        [  0,   0,   0]],\n",
              "\n",
              "       [[  0,   0,   0],\n",
              "        [  0,   0,   0],\n",
              "        [  0,   0,   0],\n",
              "        ...,\n",
              "        [106, 183,  71],\n",
              "        [105, 182,  74],\n",
              "        [  0,   0,   0]],\n",
              "\n",
              "       [[  0,   0,   0],\n",
              "        [  0,   0,   0],\n",
              "        [  0,   0,   0],\n",
              "        ...,\n",
              "        [106, 183,  71],\n",
              "        [105, 182,  74],\n",
              "        [  0,   0,   0]]], dtype=uint8)"
            ]
          },
          "execution_count": 8,
          "metadata": {},
          "output_type": "execute_result"
        }
      ],
      "source": [
        "train_images[14]"
      ]
    },
    {
      "cell_type": "code",
      "execution_count": 9,
      "metadata": {},
      "outputs": [
        {
          "data": {
            "image/png": "[encoded data removed]",
            "text/plain": [
              "<Figure size 432x288 with 1 Axes>"
            ]
          },
          "metadata": {
            "needs_background": "light"
          },
          "output_type": "display_data"
        }
      ],
      "source": [
        "# Assuming train_images[0] is a single image array\n",
        "image_to_show = train_images[14]\n",
        "\n",
        "# Display the image\n",
        "plt.imshow(image_to_show)\n",
        "plt.title(f\"Class: {train_labels[14]}\")  # Assuming train_labels[0] is the corresponding label\n",
        "plt.axis('off')  # Turn off axis labels\n",
        "plt.show()"
      ]
    },
    {
      "cell_type": "code",
      "execution_count": 10,
      "metadata": {},
      "outputs": [
        {
          "name": "stdout",
          "output_type": "stream",
          "text": [
            "[9, 5, 1, 12, 8, 18, 20, 7, 13, 20, 18, 18, 9, 18, 18, 4, 11, 5, 12, 4]\n"
          ]
        }
      ],
      "source": [
        "# Choose the number of random labels you want to display\n",
        "num_random_labels = 20\n",
        "\n",
        "# Get a list of random labels\n",
        "random_labels = random.sample(list(train_labels), num_random_labels)\n",
        "\n",
        "# Display the list of random labels\n",
        "print(random_labels)\n"
      ]
    },
    {
      "cell_type": "code",
      "execution_count": 11,
      "metadata": {},
      "outputs": [],
      "source": [
        "lookup=['apple',\n",
        "'banana',\n",
        "'beetroot',\n",
        "'cabbage',\n",
        "'capsicum',\n",
        "'carrot',\n",
        "'cucumber',\n",
        "'grapes',\n",
        "'kiwi',\n",
        "'lemon',\n",
        "'lettuce',\n",
        "'mango',\n",
        "'onion',\n",
        "'orange',\n",
        "'pear',\n",
        "'pineapple',\n",
        "'pomegranate',\n",
        "'potato',\n",
        "'raddish',\n",
        "'tomato',\n",
        "'watermelon']"
      ]
    },
    {
      "cell_type": "code",
      "execution_count": 12,
      "metadata": {},
      "outputs": [],
      "source": [
        "def show_img(images, labels, n_images):\n",
        "    \n",
        "    random_int = randint(0, labels.shape[0] - n_images)\n",
        "    \n",
        "    imgs, labels = images[random_int : random_int + n_images], \\\n",
        "        labels[random_int : random_int +  n_images]\n",
        "    \n",
        "    _, figs = plt.subplots(1, n_images, figsize=(n_images * 3, 3))\n",
        "\n",
        "    for fig, img, label in zip(figs, imgs, labels):\n",
        "        fig.imshow(img)\n",
        "        ax = fig.axes\n",
        "        \n",
        "        ax.set_title(lookup[int(label)])\n",
        "        \n",
        "        ax.title.set_fontsize(20)\n",
        "        \n",
        "        ax.get_xaxis().set_visible(False)\n",
        "        ax.get_yaxis().set_visible(False)"
      ]
    },
    {
      "cell_type": "code",
      "execution_count": 13,
      "metadata": {},
      "outputs": [
        {
          "name": "stdout",
          "output_type": "stream",
          "text": [
            "Label: 14, Class Name: pear\n",
            "Label: 15, Class Name: pineapple\n",
            "Label: 14, Class Name: pear\n",
            "Label: 15, Class Name: pineapple\n",
            "Label: 16, Class Name: pomegranate\n"
          ]
        },
        {
          "data": {
            "image/png": "[encoded data removed]",
            "text/plain": [
              "<Figure size 1080x216 with 5 Axes>"
            ]
          },
          "metadata": {
            "needs_background": "light"
          },
          "output_type": "display_data"
        }
      ],
      "source": [
        "def show_random_images(images, labels, n_images, lookup):\n",
        "    _, figs = plt.subplots(1, n_images, figsize=(n_images * 3, 3))\n",
        "\n",
        "    for fig in figs:\n",
        "        random_index = randint(0, len(images) - 1)\n",
        "        img = images[random_index]\n",
        "        label = labels[random_index]\n",
        "        \n",
        "        ax = fig.axes\n",
        "        ax.imshow(img)\n",
        "        \n",
        "        # Convert label to integer explicitly to handle any type mismatch\n",
        "        label_int = int(label)\n",
        "        class_name = lookup[label_int] if 0 <= label_int < len(lookup) else 'Unknown'\n",
        "        ax.set_title(class_name)\n",
        "        \n",
        "        ax.title.set_fontsize(20)\n",
        "        ax.get_xaxis().set_visible(False)\n",
        "        ax.get_yaxis().set_visible(False)\n",
        "\n",
        "        # Print label, class_name, and original lookup for debugging\n",
        "        print(f\"Label: {label_int}, Class Name: {class_name}\")\n",
        "\n",
        "# Example usage\n",
        "show_random_images(train_images, train_labels, 5, lookup)\n",
        "plt.show()"
      ]
    },
    {
      "cell_type": "code",
      "execution_count": 14,
      "metadata": {},
      "outputs": [],
      "source": [
        "i = 0\n",
        "\n",
        "for img, label in zip(train_images, train_labels):\n",
        "    \n",
        "    path = train_dir + str(lookup[int(label)])\n",
        "    \n",
        "    cv2.imwrite(os.path.join(path, str(i) + '.jpeg'), img)\n",
        "    \n",
        "    i += 1\n",
        "    cv2.waitKey(0)"
      ]
    },
    {
      "cell_type": "code",
      "execution_count": 15,
      "metadata": {},
      "outputs": [],
      "source": [
        "i = 0\n",
        "\n",
        "for img, label in zip(test_images, test_labels):\n",
        "\n",
        "    path = test_dir + str(lookup[int(label)])\n",
        "    \n",
        "    cv2.imwrite(os.path.join(path, str(i) + '.jpeg'), img)\n",
        " \n",
        "    i += 1\n",
        "    \n",
        "    cv2.waitKey(0)"
      ]
    },
    {
      "cell_type": "code",
      "execution_count": 16,
      "metadata": {},
      "outputs": [],
      "source": [
        "train_image_generator = ImageDataGenerator(rescale=1./255)\n",
        "\n",
        "test_image_generator = ImageDataGenerator(rescale=1./255)"
      ]
    },
    {
      "cell_type": "code",
      "execution_count": 25,
      "metadata": {},
      "outputs": [],
      "source": [
        "batch_size = 32"
      ]
    },
    {
      "cell_type": "code",
      "execution_count": 26,
      "metadata": {},
      "outputs": [
        {
          "name": "stdout",
          "output_type": "stream",
          "text": [
            "Found 3212 images belonging to 21 classes.\n"
          ]
        }
      ],
      "source": [
        "train_data_gen = train_image_generator.flow_from_directory(batch_size=batch_size,\n",
        "                                                           directory=train_dir,\n",
        "                                                           shuffle=True,\n",
        "                                                           target_size=(32, 32))"
      ]
    },
    {
      "cell_type": "code",
      "execution_count": 27,
      "metadata": {},
      "outputs": [
        {
          "name": "stdout",
          "output_type": "stream",
          "text": [
            "Found 210 images belonging to 21 classes.\n"
          ]
        }
      ],
      "source": [
        "test_data_gen = test_image_generator.flow_from_directory(batch_size=batch_size,\n",
        "                                                         directory=test_dir,\n",
        "                                                         shuffle=True,\n",
        "                                                         target_size=(32, 32))"
      ]
    },
    {
      "cell_type": "code",
      "execution_count": 28,
      "metadata": {},
      "outputs": [
        {
          "name": "stderr",
          "output_type": "stream",
          "text": [
            "c:\\Users\\PC\\AppData\\Local\\Programs\\Python\\Python39\\lib\\site-packages\\PIL\\Image.py:996: UserWarning: Palette images with Transparency expressed in bytes should be converted to RGBA images\n",
            "  warnings.warn(\n"
          ]
        },
        {
          "data": {
            "text/plain": [
              "(32, 32, 32, 3)"
            ]
          },
          "execution_count": 28,
          "metadata": {},
          "output_type": "execute_result"
        }
      ],
      "source": [
        "sample_batch = next(train_data_gen)\n",
        "\n",
        "sample_batch[0].shape"
      ]
    },
    {
      "cell_type": "code",
      "execution_count": 29,
      "metadata": {},
      "outputs": [],
      "source": [
        "conv_model = tf.keras.models.Sequential([\n",
        "\n",
        "    layers.Conv2D(16, (3, 3), padding='same', activation='relu', \n",
        "                  input_shape=sample_batch[0].shape[1:]),\n",
        "    layers.Conv2D(32, (3, 3), padding='same', activation='relu'),\n",
        "    layers.MaxPooling2D(pool_size=(2, 2)),\n",
        "    \n",
        "    layers.Conv2D(64, (3, 3), padding='same', activation='relu'),\n",
        "    layers.Conv2D(128, (3, 3), padding='same', activation='relu'),\n",
        "    layers.MaxPooling2D(pool_size=(2, 2)),\n",
        "    \n",
        "    layers.Flatten(),\n",
        "    \n",
        "    layers.Dense(256, activation='relu'),\n",
        "    layers.Dense(128, activation='relu'),\n",
        "    layers.Dense(21, activation='softmax')\n",
        "\n",
        "])"
      ]
    },
    {
      "cell_type": "code",
      "execution_count": 30,
      "metadata": {},
      "outputs": [],
      "source": [
        "conv_model.compile(optimizer='adam',\n",
        "                   loss=tf.keras.losses.CategoricalCrossentropy(from_logits=True),\n",
        "                   metrics=['accuracy'])"
      ]
    },
    {
      "cell_type": "code",
      "execution_count": 31,
      "metadata": {},
      "outputs": [
        {
          "name": "stdout",
          "output_type": "stream",
          "text": [
            "Epoch 1/15\n"
          ]
        },
        {
          "name": "stderr",
          "output_type": "stream",
          "text": [
            "c:\\Users\\PC\\AppData\\Local\\Programs\\Python\\Python39\\lib\\site-packages\\keras\\src\\backend.py:5562: UserWarning: \"`categorical_crossentropy` received `from_logits=True`, but the `output` argument was produced by a Softmax activation and thus does not represent logits. Was this intended?\n",
            "  output, from_logits = _get_logits(\n"
          ]
        },
        {
          "name": "stdout",
          "output_type": "stream",
          "text": [
            "100/100 [==============================] - 75s 736ms/step - loss: 2.7426 - accuracy: 0.1340 - val_loss: 2.3419 - val_accuracy: 0.2865\n",
            "Epoch 2/15\n",
            "100/100 [==============================] - 77s 765ms/step - loss: 2.1711 - accuracy: 0.3047 - val_loss: 2.2352 - val_accuracy: 0.2969\n",
            "Epoch 3/15\n",
            "100/100 [==============================] - 76s 758ms/step - loss: 1.9044 - accuracy: 0.3720 - val_loss: 1.7895 - val_accuracy: 0.4167\n",
            "Epoch 4/15\n",
            "100/100 [==============================] - 76s 765ms/step - loss: 1.7049 - accuracy: 0.4305 - val_loss: 1.6938 - val_accuracy: 0.4062\n",
            "Epoch 5/15\n",
            "100/100 [==============================] - 78s 776ms/step - loss: 1.5953 - accuracy: 0.4862 - val_loss: 1.5393 - val_accuracy: 0.4844\n",
            "Epoch 6/15\n",
            "100/100 [==============================] - 81s 808ms/step - loss: 1.4262 - accuracy: 0.5396 - val_loss: 1.6668 - val_accuracy: 0.4479\n",
            "Epoch 7/15\n",
            "100/100 [==============================] - 78s 781ms/step - loss: 1.2648 - accuracy: 0.5896 - val_loss: 1.3857 - val_accuracy: 0.5677\n",
            "Epoch 8/15\n",
            "100/100 [==============================] - 79s 791ms/step - loss: 1.0966 - accuracy: 0.6450 - val_loss: 1.3816 - val_accuracy: 0.5417\n",
            "Epoch 9/15\n",
            "100/100 [==============================] - 79s 789ms/step - loss: 0.9609 - accuracy: 0.6896 - val_loss: 1.4075 - val_accuracy: 0.5573\n",
            "Epoch 10/15\n",
            "100/100 [==============================] - 79s 792ms/step - loss: 0.7504 - accuracy: 0.7582 - val_loss: 1.3570 - val_accuracy: 0.5833\n",
            "Epoch 11/15\n",
            "100/100 [==============================] - 79s 789ms/step - loss: 0.6316 - accuracy: 0.7896 - val_loss: 1.6327 - val_accuracy: 0.5573\n",
            "Epoch 12/15\n",
            "100/100 [==============================] - 79s 791ms/step - loss: 0.5032 - accuracy: 0.8318 - val_loss: 1.7581 - val_accuracy: 0.6354\n",
            "Epoch 13/15\n",
            "100/100 [==============================] - 79s 793ms/step - loss: 0.4318 - accuracy: 0.8610 - val_loss: 1.9977 - val_accuracy: 0.5781\n",
            "Epoch 14/15\n",
            "100/100 [==============================] - 78s 780ms/step - loss: 0.2880 - accuracy: 0.9088 - val_loss: 1.6698 - val_accuracy: 0.5990\n",
            "Epoch 15/15\n",
            "100/100 [==============================] - 79s 793ms/step - loss: 0.1694 - accuracy: 0.9472 - val_loss: 2.0998 - val_accuracy: 0.6094\n"
          ]
        }
      ],
      "source": [
        "training_hist = conv_model.fit(train_data_gen,\n",
        "                               epochs=15,\n",
        "                               steps_per_epoch=len(train_images) // batch_size,\n",
        "                               validation_data=test_data_gen,\n",
        "                               validation_steps=len(test_images) // batch_size)"
      ]
    },
    {
      "cell_type": "code",
      "execution_count": 32,
      "metadata": {},
      "outputs": [
        {
          "data": {
            "image/png": "[encoded data removed]",
            "text/plain": [
              "<Figure size 864x576 with 2 Axes>"
            ]
          },
          "metadata": {
            "needs_background": "light"
          },
          "output_type": "display_data"
        }
      ],
      "source": [
        "acc = training_hist.history['accuracy']\n",
        "val_acc = training_hist.history['val_accuracy']\n",
        "\n",
        "loss = training_hist.history['loss']\n",
        "val_loss = training_hist.history['val_loss']\n",
        "\n",
        "epochs_range = range(15)\n",
        "\n",
        "plt.figure(figsize=(12, 8))\n",
        "\n",
        "plt.subplot(1, 2, 1)\n",
        "\n",
        "plt.plot(epochs_range, acc, label='Training Accuracy')\n",
        "plt.plot(epochs_range, val_acc, label='Validation Accuracy')\n",
        "\n",
        "plt.legend(loc='lower right')\n",
        "plt.title('Training and Validation Accuracy')\n",
        "\n",
        "plt.subplot(1, 2, 2)\n",
        "\n",
        "plt.plot(epochs_range, loss, label='Training Loss')\n",
        "plt.plot(epochs_range, val_loss, label='Validation Loss')\n",
        "\n",
        "plt.legend(loc='lower left')\n",
        "\n",
        "plt.title('Training and Validation Loss')\n",
        "plt.show()"
      ]
    },
    {
      "cell_type": "code",
      "execution_count": 33,
      "metadata": {},
      "outputs": [
        {
          "data": {
            "text/plain": [
              "(32, 32, 3)"
            ]
          },
          "execution_count": 33,
          "metadata": {},
          "output_type": "execute_result"
        }
      ],
      "source": [
        "test_images[0].shape"
      ]
    },
    {
      "cell_type": "code",
      "execution_count": 34,
      "metadata": {},
      "outputs": [],
      "source": [
        "def perform_test(model, img, label):\n",
        "    plt.imshow(img)\n",
        "    \n",
        "    test_img = np.expand_dims(img, axis=0)\n",
        "    result = model.predict(test_img)\n",
        "    \n",
        "    print('Actual label: ', lookup[int(label)])\n",
        "    print('Predicted label: ', lookup[np.argmax(result)])"
      ]
    },
    {
      "cell_type": "code",
      "execution_count": 36,
      "metadata": {},
      "outputs": [
        {
          "name": "stdout",
          "output_type": "stream",
          "text": [
            "1/1 [==============================] - 0s 134ms/step\n",
            "Actual label:  apple\n",
            "Predicted label:  apple\n"
          ]
        },
        {
          "data": {
            "image/png": "[encoded data removed]",
            "text/plain": [
              "<Figure size 432x288 with 1 Axes>"
            ]
          },
          "metadata": {
            "needs_background": "light"
          },
          "output_type": "display_data"
        }
      ],
      "source": [
        "perform_test(conv_model, test_images[0], test_labels[0])"
      ]
    },
    {
      "cell_type": "code",
      "execution_count": 37,
      "metadata": {},
      "outputs": [
        {
          "name": "stdout",
          "output_type": "stream",
          "text": [
            "1/1 [==============================] - 0s 41ms/step\n",
            "Actual label:  apple\n",
            "Predicted label:  apple\n"
          ]
        },
        {
          "data": {
            "image/png": "[encoded data removed]",
            "text/plain": [
              "<Figure size 432x288 with 1 Axes>"
            ]
          },
          "metadata": {
            "needs_background": "light"
          },
          "output_type": "display_data"
        }
      ],
      "source": [
        "perform_test(conv_model, test_images[1], test_labels[1])"
      ]
    },
    {
      "cell_type": "code",
      "execution_count": 39,
      "metadata": {},
      "outputs": [
        {
          "name": "stdout",
          "output_type": "stream",
          "text": [
            "1/1 [==============================] - 0s 35ms/step\n",
            "Actual label:  watermelon\n",
            "Predicted label:  tomato\n"
          ]
        },
        {
          "data": {
            "image/png": "[encoded data removed]",
            "text/plain": [
              "<Figure size 432x288 with 1 Axes>"
            ]
          },
          "metadata": {
            "needs_background": "light"
          },
          "output_type": "display_data"
        }
      ],
      "source": [
        "perform_test(conv_model, test_images[200], test_labels[200])"
      ]
    },
    {
      "cell_type": "code",
      "execution_count": 40,
      "metadata": {},
      "outputs": [
        {
          "name": "stdout",
          "output_type": "stream",
          "text": [
            "1/1 [==============================] - 0s 27ms/step\n",
            "Actual label:  lettuce\n",
            "Predicted label:  lettuce\n"
          ]
        },
        {
          "data": {
            "image/png": "[encoded data removed]",
            "text/plain": [
              "<Figure size 432x288 with 1 Axes>"
            ]
          },
          "metadata": {
            "needs_background": "light"
          },
          "output_type": "display_data"
        }
      ],
      "source": [
        "perform_test(conv_model, test_images[100], test_labels[100])"
      ]
    },
    {
      "cell_type": "code",
      "execution_count": 46,
      "metadata": {},
      "outputs": [
        {
          "name": "stderr",
          "output_type": "stream",
          "text": [
            "c:\\Users\\PC\\AppData\\Local\\Programs\\Python\\Python39\\lib\\site-packages\\keras\\src\\engine\\training.py:3000: UserWarning: You are saving your model as an HDF5 file via `model.save()`. This file format is considered legacy. We recommend using instead the native Keras format, e.g. `model.save('my_model.keras')`.\n",
            "  saving_api.save_model(\n"
          ]
        }
      ],
      "source": [
        "# Save the model in HDF5 format\n",
        "conv_model.save(\"model.h5\")\n",
        "\n",
        "# Load the model from the saved file\n",
        "loaded_model = tf.keras.models.load_model(\"model.h5\")\n"
      ]
    }
  ],
  "metadata": {
    "accelerator": "GPU",
    "colab": {
      "provenance": []
    },
    "kernelspec": {
      "display_name": "Python 3",
      "name": "python3"
    },
    "language_info": {
      "codemirror_mode": {
        "name": "ipython",
        "version": 3
      },
      "file_extension": ".py",
      "mimetype": "text/x-python",
      "name": "python",
      "nbconvert_exporter": "python",
      "pygments_lexer": "ipython3",
      "version": "3.9.1"
    }
  },
  "nbformat": 4,
  "nbformat_minor": 0
}
